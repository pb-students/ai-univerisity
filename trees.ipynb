{
 "cells": [
  {
   "cell_type": "markdown",
   "id": "af109407",
   "metadata": {},
   "source": [
    "# Drzewa decyzyjne"
   ]
  },
  {
   "cell_type": "code",
   "execution_count": 1,
   "id": "d2e451c0",
   "metadata": {},
   "outputs": [],
   "source": [
    "import pandas as pd\n",
    "import numpy as np\n",
    "from sklearn.tree import DecisionTreeClassifier\n",
    "from sklearn.tree import export_graphviz\n",
    "from sklearn.model_selection import train_test_split\n",
    "from sklearn.metrics import accuracy_score"
   ]
  },
  {
   "cell_type": "code",
   "execution_count": 2,
   "id": "c3d9a68c",
   "metadata": {},
   "outputs": [
    {
     "data": {
      "text/html": [
       "<div>\n",
       "<style scoped>\n",
       "    .dataframe tbody tr th:only-of-type {\n",
       "        vertical-align: middle;\n",
       "    }\n",
       "\n",
       "    .dataframe tbody tr th {\n",
       "        vertical-align: top;\n",
       "    }\n",
       "\n",
       "    .dataframe thead th {\n",
       "        text-align: right;\n",
       "    }\n",
       "</style>\n",
       "<table border=\"1\" class=\"dataframe\">\n",
       "  <thead>\n",
       "    <tr style=\"text-align: right;\">\n",
       "      <th></th>\n",
       "      <th>0</th>\n",
       "      <th>1</th>\n",
       "      <th>2</th>\n",
       "      <th>3</th>\n",
       "      <th>4</th>\n",
       "    </tr>\n",
       "  </thead>\n",
       "  <tbody>\n",
       "    <tr>\n",
       "      <th>0</th>\n",
       "      <td>0</td>\n",
       "      <td>2</td>\n",
       "      <td>0</td>\n",
       "      <td>0</td>\n",
       "      <td>Iris-setosa</td>\n",
       "    </tr>\n",
       "    <tr>\n",
       "      <th>1</th>\n",
       "      <td>0</td>\n",
       "      <td>0</td>\n",
       "      <td>0</td>\n",
       "      <td>0</td>\n",
       "      <td>Iris-setosa</td>\n",
       "    </tr>\n",
       "    <tr>\n",
       "      <th>2</th>\n",
       "      <td>0</td>\n",
       "      <td>1</td>\n",
       "      <td>0</td>\n",
       "      <td>0</td>\n",
       "      <td>Iris-setosa</td>\n",
       "    </tr>\n",
       "    <tr>\n",
       "      <th>3</th>\n",
       "      <td>0</td>\n",
       "      <td>1</td>\n",
       "      <td>0</td>\n",
       "      <td>0</td>\n",
       "      <td>Iris-setosa</td>\n",
       "    </tr>\n",
       "    <tr>\n",
       "      <th>4</th>\n",
       "      <td>0</td>\n",
       "      <td>2</td>\n",
       "      <td>0</td>\n",
       "      <td>0</td>\n",
       "      <td>Iris-setosa</td>\n",
       "    </tr>\n",
       "    <tr>\n",
       "      <th>5</th>\n",
       "      <td>1</td>\n",
       "      <td>2</td>\n",
       "      <td>1</td>\n",
       "      <td>1</td>\n",
       "      <td>Iris-setosa</td>\n",
       "    </tr>\n",
       "    <tr>\n",
       "      <th>6</th>\n",
       "      <td>0</td>\n",
       "      <td>1</td>\n",
       "      <td>0</td>\n",
       "      <td>1</td>\n",
       "      <td>Iris-setosa</td>\n",
       "    </tr>\n",
       "    <tr>\n",
       "      <th>7</th>\n",
       "      <td>0</td>\n",
       "      <td>1</td>\n",
       "      <td>0</td>\n",
       "      <td>0</td>\n",
       "      <td>Iris-setosa</td>\n",
       "    </tr>\n",
       "    <tr>\n",
       "      <th>8</th>\n",
       "      <td>0</td>\n",
       "      <td>0</td>\n",
       "      <td>0</td>\n",
       "      <td>0</td>\n",
       "      <td>Iris-setosa</td>\n",
       "    </tr>\n",
       "    <tr>\n",
       "      <th>9</th>\n",
       "      <td>0</td>\n",
       "      <td>1</td>\n",
       "      <td>0</td>\n",
       "      <td>0</td>\n",
       "      <td>Iris-setosa</td>\n",
       "    </tr>\n",
       "  </tbody>\n",
       "</table>\n",
       "</div>"
      ],
      "text/plain": [
       "   0  1  2  3            4\n",
       "0  0  2  0  0  Iris-setosa\n",
       "1  0  0  0  0  Iris-setosa\n",
       "2  0  1  0  0  Iris-setosa\n",
       "3  0  1  0  0  Iris-setosa\n",
       "4  0  2  0  0  Iris-setosa\n",
       "5  1  2  1  1  Iris-setosa\n",
       "6  0  1  0  1  Iris-setosa\n",
       "7  0  1  0  0  Iris-setosa\n",
       "8  0  0  0  0  Iris-setosa\n",
       "9  0  1  0  0  Iris-setosa"
      ]
     },
     "execution_count": 2,
     "metadata": {},
     "output_type": "execute_result"
    }
   ],
   "source": [
    "df = pd.read_csv('./iris-mc-disc.csv', delimiter=\";\", header=None)\n",
    "df.head(10)"
   ]
  },
  {
   "cell_type": "code",
   "execution_count": 3,
   "id": "9e6dcafe",
   "metadata": {
    "scrolled": true
   },
   "outputs": [
    {
     "data": {
      "text/html": [
       "<div>\n",
       "<style scoped>\n",
       "    .dataframe tbody tr th:only-of-type {\n",
       "        vertical-align: middle;\n",
       "    }\n",
       "\n",
       "    .dataframe tbody tr th {\n",
       "        vertical-align: top;\n",
       "    }\n",
       "\n",
       "    .dataframe thead th {\n",
       "        text-align: right;\n",
       "    }\n",
       "</style>\n",
       "<table border=\"1\" class=\"dataframe\">\n",
       "  <thead>\n",
       "    <tr style=\"text-align: right;\">\n",
       "      <th></th>\n",
       "      <th>0</th>\n",
       "      <th>1</th>\n",
       "      <th>2</th>\n",
       "      <th>3</th>\n",
       "      <th>4</th>\n",
       "    </tr>\n",
       "  </thead>\n",
       "  <tbody>\n",
       "    <tr>\n",
       "      <th>0</th>\n",
       "      <td>0</td>\n",
       "      <td>2</td>\n",
       "      <td>0</td>\n",
       "      <td>0</td>\n",
       "      <td>1</td>\n",
       "    </tr>\n",
       "    <tr>\n",
       "      <th>1</th>\n",
       "      <td>0</td>\n",
       "      <td>0</td>\n",
       "      <td>0</td>\n",
       "      <td>0</td>\n",
       "      <td>1</td>\n",
       "    </tr>\n",
       "    <tr>\n",
       "      <th>2</th>\n",
       "      <td>0</td>\n",
       "      <td>1</td>\n",
       "      <td>0</td>\n",
       "      <td>0</td>\n",
       "      <td>1</td>\n",
       "    </tr>\n",
       "    <tr>\n",
       "      <th>3</th>\n",
       "      <td>0</td>\n",
       "      <td>1</td>\n",
       "      <td>0</td>\n",
       "      <td>0</td>\n",
       "      <td>1</td>\n",
       "    </tr>\n",
       "    <tr>\n",
       "      <th>4</th>\n",
       "      <td>0</td>\n",
       "      <td>2</td>\n",
       "      <td>0</td>\n",
       "      <td>0</td>\n",
       "      <td>1</td>\n",
       "    </tr>\n",
       "    <tr>\n",
       "      <th>5</th>\n",
       "      <td>1</td>\n",
       "      <td>2</td>\n",
       "      <td>1</td>\n",
       "      <td>1</td>\n",
       "      <td>1</td>\n",
       "    </tr>\n",
       "    <tr>\n",
       "      <th>6</th>\n",
       "      <td>0</td>\n",
       "      <td>1</td>\n",
       "      <td>0</td>\n",
       "      <td>1</td>\n",
       "      <td>1</td>\n",
       "    </tr>\n",
       "    <tr>\n",
       "      <th>7</th>\n",
       "      <td>0</td>\n",
       "      <td>1</td>\n",
       "      <td>0</td>\n",
       "      <td>0</td>\n",
       "      <td>1</td>\n",
       "    </tr>\n",
       "    <tr>\n",
       "      <th>8</th>\n",
       "      <td>0</td>\n",
       "      <td>0</td>\n",
       "      <td>0</td>\n",
       "      <td>0</td>\n",
       "      <td>1</td>\n",
       "    </tr>\n",
       "    <tr>\n",
       "      <th>9</th>\n",
       "      <td>0</td>\n",
       "      <td>1</td>\n",
       "      <td>0</td>\n",
       "      <td>0</td>\n",
       "      <td>1</td>\n",
       "    </tr>\n",
       "  </tbody>\n",
       "</table>\n",
       "</div>"
      ],
      "text/plain": [
       "   0  1  2  3  4\n",
       "0  0  2  0  0  1\n",
       "1  0  0  0  0  1\n",
       "2  0  1  0  0  1\n",
       "3  0  1  0  0  1\n",
       "4  0  2  0  0  1\n",
       "5  1  2  1  1  1\n",
       "6  0  1  0  1  1\n",
       "7  0  1  0  0  1\n",
       "8  0  0  0  0  1\n",
       "9  0  1  0  0  1"
      ]
     },
     "execution_count": 3,
     "metadata": {},
     "output_type": "execute_result"
    }
   ],
   "source": [
    "df[4]= pd.get_dummies(df[4])\n",
    "df.head(10)"
   ]
  },
  {
   "cell_type": "code",
   "execution_count": 4,
   "id": "0adbb372",
   "metadata": {},
   "outputs": [],
   "source": [
    "X = df[range(4)]\n",
    "y = df[4]"
   ]
  },
  {
   "cell_type": "code",
   "execution_count": 5,
   "id": "328076d4",
   "metadata": {},
   "outputs": [],
   "source": [
    "X = np.array([\n",
    "        [1, 0, 7, 0, 1],\n",
    "        [0, 3, 2, 1, 2],\n",
    "        [0, 1, 1, 1, 3],\n",
    "        [1, 3, 0, 0, 4],\n",
    "        [1, 0, 7, 0, 1],\n",
    "        [0, 3, 2, 1, 2],\n",
    "        [1, 1, 1, 1, 3],\n",
    "        [1, 3, 7, 0, 4],\n",
    "])\n",
    "y = [0, 1, 0, 3, 4, 0, 6, 0]"
   ]
  },
  {
   "cell_type": "markdown",
   "id": "66e553a8",
   "metadata": {},
   "source": [
    "## Zadanie 1"
   ]
  },
  {
   "cell_type": "markdown",
   "id": "ef6577c1",
   "metadata": {},
   "source": [
    "Pierwszy przykład"
   ]
  },
  {
   "cell_type": "code",
   "execution_count": 6,
   "id": "b49f394a",
   "metadata": {},
   "outputs": [],
   "source": [
    "X = np.array([\n",
    "        [1, 0, 7, 0, 1],\n",
    "        [0, 3, 2, 1, 2],\n",
    "        [0, 1, 1, 1, 3],\n",
    "        [1, 3, 0, 0, 4],\n",
    "        [1, 0, 7, 0, 1],\n",
    "        [0, 3, 2, 1, 2],\n",
    "        [1, 1, 1, 1, 3],\n",
    "        [1, 3, 7, 0, 4],\n",
    "])\n",
    "y = [0, 1, 0, 3, 4, 0, 6, 0]"
   ]
  },
  {
   "cell_type": "code",
   "execution_count": 7,
   "id": "e34acaa5",
   "metadata": {},
   "outputs": [],
   "source": [
    "tree_gini = DecisionTreeClassifier(criterion='gini', max_depth=2)\n",
    "tree_entropy = DecisionTreeClassifier(criterion = 'entropy',  max_depth=2)"
   ]
  },
  {
   "cell_type": "code",
   "execution_count": 8,
   "id": "0b97f279",
   "metadata": {},
   "outputs": [],
   "source": [
    "tree_gini.fit(X, y)\n",
    "export_graphviz(\n",
    "    tree_gini,\n",
    "    out_file='tree_gini.dot',\n",
    "    feature_names = range(5),\n",
    "    rounded=True,\n",
    "    filled=True\n",
    ")"
   ]
  },
  {
   "cell_type": "code",
   "execution_count": 9,
   "id": "32059c98",
   "metadata": {},
   "outputs": [],
   "source": [
    "tree_entropy.fit(X,y)\n",
    "export_graphviz(\n",
    "    tree_entropy,\n",
    "    out_file='tree_entropy.dot',\n",
    "    feature_names = range(5),\n",
    "    rounded=True,\n",
    "    filled=True\n",
    ")\n"
   ]
  },
  {
   "cell_type": "markdown",
   "id": "2c617767",
   "metadata": {},
   "source": [
    "Drugi przykład"
   ]
  },
  {
   "cell_type": "code",
   "execution_count": 10,
   "id": "e5b32857",
   "metadata": {},
   "outputs": [],
   "source": [
    "X = df[range(4)] # zbiór z pliku iris-mc-disc.csv\n",
    "y = df[4]"
   ]
  },
  {
   "cell_type": "code",
   "execution_count": 11,
   "id": "351eb058",
   "metadata": {},
   "outputs": [],
   "source": [
    "tree_gini = DecisionTreeClassifier(criterion='gini')\n",
    "tree_entropy = DecisionTreeClassifier(criterion = 'entropy')"
   ]
  },
  {
   "cell_type": "code",
   "execution_count": 12,
   "id": "8723b633",
   "metadata": {},
   "outputs": [],
   "source": [
    "tree_gini.fit(X, y)\n",
    "export_graphviz(\n",
    "    tree_gini,\n",
    "    out_file='tree_gini_bis.dot',\n",
    "    feature_names = range(4),\n",
    "    rounded=True,\n",
    "    filled=True\n",
    ")"
   ]
  },
  {
   "cell_type": "code",
   "execution_count": 13,
   "id": "120def19",
   "metadata": {},
   "outputs": [],
   "source": [
    "tree_entropy.fit(X,y)\n",
    "export_graphviz(\n",
    "    tree_entropy,\n",
    "    out_file='tree_entropy_bis.dot',\n",
    "    feature_names = range(4),\n",
    "    rounded=True,\n",
    "    filled=True\n",
    ")\n"
   ]
  },
  {
   "cell_type": "markdown",
   "id": "ad827db4",
   "metadata": {},
   "source": [
    "## Zadanie 2"
   ]
  },
  {
   "cell_type": "code",
   "execution_count": 14,
   "id": "93904bdc",
   "metadata": {},
   "outputs": [],
   "source": [
    "X = df[range(4)] # zbiór z pliku iris-mc-disc.csv"
   ]
  },
  {
   "cell_type": "code",
   "execution_count": 15,
   "id": "84884fe4",
   "metadata": {},
   "outputs": [],
   "source": [
    "X_train, X_test, y_train, y_test = train_test_split(X, y, test_size=0.3, random_state=0)"
   ]
  },
  {
   "cell_type": "code",
   "execution_count": 16,
   "id": "f46e4ed0",
   "metadata": {},
   "outputs": [
    {
     "name": "stdout",
     "output_type": "stream",
     "text": [
      "Drzewo nr 1, maksymalna głębość: 2, precyzja modelu: 0.8571428571428571\n",
      "Drzewo nr 2, maksymalna głębość: 3, precyzja modelu: 0.9523809523809523\n",
      "Drzewo nr 3, maksymalna głębość: 4, precyzja modelu: 0.9523809523809523\n",
      "Drzewo nr 4, maksymalna głębość: None, precyzja modelu: 0.9523809523809523\n"
     ]
    }
   ],
   "source": [
    "max_depth = [2, 3, 4, None]\n",
    "for idx, value in enumerate(max_depth):\n",
    "    model = DecisionTreeClassifier(max_depth=value)\n",
    "    model.fit(X_train, y_train)\n",
    "    y_pred = model.predict(X_test)\n",
    "    acc = accuracy_score(y_test, y_pred)\n",
    "    print(f\"Drzewo nr {idx+1}, maksymalna głębość: {value}, precyzja modelu: {acc}\")"
   ]
  },
  {
   "cell_type": "code",
   "execution_count": 17,
   "id": "37de8264",
   "metadata": {
    "scrolled": true
   },
   "outputs": [
    {
     "name": "stdout",
     "output_type": "stream",
     "text": [
      "Drzewo nr 1, minimalna wartość niezbędna dla podziału: 2, precyzja modelu: 1.0\n",
      "Drzewo nr 2, minimalna wartość niezbędna dla podziału: 3, precyzja modelu: 0.9523809523809523\n",
      "Drzewo nr 3, minimalna wartość niezbędna dla podziału: 4, precyzja modelu: 0.9523809523809523\n",
      "Drzewo nr 4, minimalna wartość niezbędna dla podziału: 5, precyzja modelu: 0.9523809523809523\n",
      "Drzewo nr 5, minimalna wartość niezbędna dla podziału: 6, precyzja modelu: 0.9523809523809523\n",
      "Drzewo nr 6, minimalna wartość niezbędna dla podziału: 7, precyzja modelu: 0.9523809523809523\n",
      "Drzewo nr 7, minimalna wartość niezbędna dla podziału: 8, precyzja modelu: 0.9523809523809523\n",
      "Drzewo nr 8, minimalna wartość niezbędna dla podziału: 9, precyzja modelu: 0.9047619047619048\n",
      "Drzewo nr 9, minimalna wartość niezbędna dla podziału: 10, precyzja modelu: 0.9523809523809523\n",
      "Drzewo nr 10, minimalna wartość niezbędna dla podziału: 20, precyzja modelu: 0.9523809523809523\n",
      "Drzewo nr 11, minimalna wartość niezbędna dla podziału: 35, precyzja modelu: 0.9047619047619048\n",
      "Drzewo nr 12, minimalna wartość niezbędna dla podziału: 70, precyzja modelu: 0.47619047619047616\n"
     ]
    }
   ],
   "source": [
    "min_samples_split = [2, 3, 4, 5, 6, 7, 8, 9, 10, 20, 35, 70]\n",
    "for idx, value in enumerate(min_samples_split):\n",
    "    model = DecisionTreeClassifier(min_samples_split=value)\n",
    "    model.fit(X_train, y_train)\n",
    "    y_pred = model.predict(X_test)\n",
    "    acc = accuracy_score(y_test, y_pred)\n",
    "    print(f\"Drzewo nr {idx+1}, minimalna wartość niezbędna dla podziału: {value}, precyzja modelu: {acc}\")"
   ]
  },
  {
   "cell_type": "code",
   "execution_count": 18,
   "id": "fd4ccca4",
   "metadata": {},
   "outputs": [
    {
     "name": "stdout",
     "output_type": "stream",
     "text": [
      "Drzewo nr 1, minimalna liczba próbek w liściu: 2, precyzja modelu: 0.8571428571428571\n",
      "Drzewo nr 2, minimalna liczba próbek w liściu: 3, precyzja modelu: 0.9523809523809523\n",
      "Drzewo nr 3, minimalna liczba próbek w liściu: 4, precyzja modelu: 0.8571428571428571\n",
      "Drzewo nr 4, minimalna liczba próbek w liściu: 5, precyzja modelu: 1.0\n",
      "Drzewo nr 5, minimalna liczba próbek w liściu: 6, precyzja modelu: 1.0\n",
      "Drzewo nr 6, minimalna liczba próbek w liściu: 7, precyzja modelu: 0.8571428571428571\n",
      "Drzewo nr 7, minimalna liczba próbek w liściu: 8, precyzja modelu: 1.0\n",
      "Drzewo nr 8, minimalna liczba próbek w liściu: 9, precyzja modelu: 0.8095238095238095\n",
      "Drzewo nr 9, minimalna liczba próbek w liściu: 10, precyzja modelu: 0.9047619047619048\n",
      "Drzewo nr 10, minimalna liczba próbek w liściu: 20, precyzja modelu: 0.47619047619047616\n",
      "Drzewo nr 11, minimalna liczba próbek w liściu: 35, precyzja modelu: 0.47619047619047616\n",
      "Drzewo nr 12, minimalna liczba próbek w liściu: 70, precyzja modelu: 0.47619047619047616\n"
     ]
    }
   ],
   "source": [
    "min_samples_leaf = [2, 3, 4, 5, 6, 7, 8, 9, 10, 20, 35, 70]\n",
    "for idx, value in enumerate(min_samples_leaf):\n",
    "    model = DecisionTreeClassifier(min_samples_leaf=value)\n",
    "    model.fit(X_train, y_train)\n",
    "    y_pred = model.predict(X_test)\n",
    "    acc = accuracy_score(y_test, y_pred)\n",
    "    print(f\"Drzewo nr {idx+1}, minimalna liczba próbek w liściu: {value}, precyzja modelu: {acc}\")"
   ]
  },
  {
   "cell_type": "code",
   "execution_count": 19,
   "id": "0f072317",
   "metadata": {},
   "outputs": [
    {
     "name": "stdout",
     "output_type": "stream",
     "text": [
      "Drzewo nr 1, maksymalna liczba liści dla podziału: 2, precyzja modelu: 0.8095238095238095\n",
      "Drzewo nr 2, maksymalna liczba liści dla podziału: 3, precyzja modelu: 1.0\n",
      "Drzewo nr 3, maksymalna liczba liści dla podziału: 4, precyzja modelu: 0.9523809523809523\n",
      "Drzewo nr 4, maksymalna liczba liści dla podziału: 5, precyzja modelu: 0.9523809523809523\n",
      "Drzewo nr 5, maksymalna liczba liści dla podziału: 6, precyzja modelu: 1.0\n",
      "Drzewo nr 6, maksymalna liczba liści dla podziału: 7, precyzja modelu: 0.9523809523809523\n",
      "Drzewo nr 7, maksymalna liczba liści dla podziału: 8, precyzja modelu: 1.0\n",
      "Drzewo nr 8, maksymalna liczba liści dla podziału: 9, precyzja modelu: 1.0\n",
      "Drzewo nr 9, maksymalna liczba liści dla podziału: 10, precyzja modelu: 1.0\n",
      "Drzewo nr 10, maksymalna liczba liści dla podziału: 20, precyzja modelu: 1.0\n",
      "Drzewo nr 11, maksymalna liczba liści dla podziału: 35, precyzja modelu: 0.9523809523809523\n",
      "Drzewo nr 12, maksymalna liczba liści dla podziału: 70, precyzja modelu: 0.9523809523809523\n"
     ]
    }
   ],
   "source": [
    "max_leaf_nodes = [2, 3, 4, 5, 6, 7, 8, 9, 10, 20, 35, 70]\n",
    "for idx, value in enumerate(min_samples_split):\n",
    "    model = DecisionTreeClassifier(max_leaf_nodes=value)\n",
    "    model.fit(X_train, y_train)\n",
    "    y_pred = model.predict(X_test)\n",
    "    acc = accuracy_score(y_test, y_pred)\n",
    "    print(f\"Drzewo nr {idx+1}, maksymalna liczba liści dla podziału: {value}, precyzja modelu: {acc}\")"
   ]
  },
  {
   "cell_type": "code",
   "execution_count": 20,
   "id": "acd72360",
   "metadata": {},
   "outputs": [
    {
     "name": "stdout",
     "output_type": "stream",
     "text": [
      "Drzewo nr 1, maksymalna liczba cech przy podziale: 1, precyzja modelu: 0.9523809523809523\n",
      "Drzewo nr 2, maksymalna liczba cech przy podziale: 2, precyzja modelu: 1.0\n",
      "Drzewo nr 3, maksymalna liczba cech przy podziale: 3, precyzja modelu: 1.0\n",
      "Drzewo nr 4, maksymalna liczba cech przy podziale: 4, precyzja modelu: 1.0\n"
     ]
    }
   ],
   "source": [
    "max_features = [1, 2, 3, 4]\n",
    "for idx, value in enumerate(max_features):\n",
    "    model = DecisionTreeClassifier(max_features=value)\n",
    "    model.fit(X_train, y_train)\n",
    "    y_pred = model.predict(X_test)\n",
    "    acc = accuracy_score(y_test, y_pred)\n",
    "    print(f\"Drzewo nr {idx+1}, maksymalna liczba cech przy podziale: {value}, precyzja modelu: {acc}\")"
   ]
  },
  {
   "cell_type": "code",
   "execution_count": null,
   "id": "b8de7631",
   "metadata": {},
   "outputs": [],
   "source": []
  }
 ],
 "metadata": {
  "kernelspec": {
   "display_name": "Python 3",
   "language": "python",
   "name": "python3"
  },
  "language_info": {
   "codemirror_mode": {
    "name": "ipython",
    "version": 3
   },
   "file_extension": ".py",
   "mimetype": "text/x-python",
   "name": "python",
   "nbconvert_exporter": "python",
   "pygments_lexer": "ipython3",
   "version": "3.8.10"
  }
 },
 "nbformat": 4,
 "nbformat_minor": 5
}
